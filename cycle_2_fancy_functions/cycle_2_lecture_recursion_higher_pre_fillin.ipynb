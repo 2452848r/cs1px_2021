{
  "nbformat": 4,
  "nbformat_minor": 0,
  "metadata": {
    "kernelspec": {
      "display_name": "Python 3 (system-wide)",
      "language": "python",
      "metadata": {
        "cocalc": {
          "description": "Python 3 programming language",
          "priority": 100,
          "url": "https://www.python.org/"
        }
      },
      "name": "python3"
    },
    "language_info": {
      "codemirror_mode": {
        "name": "ipython",
        "version": 3
      },
      "file_extension": ".py",
      "mimetype": "text/x-python",
      "name": "python",
      "nbconvert_exporter": "python",
      "pygments_lexer": "ipython3",
      "version": "3.6.9"
    },
    "colab": {
      "name": "Friday24th_RecursionHigherOrder.ipynb",
      "provenance": [],
      "collapsed_sections": []
    }
  },
  "cells": [
    {
      "cell_type": "markdown",
      "metadata": {
        "collapsed": false,
        "id": "qQcr5kExBITg"
      },
      "source": [
        "**Recursion and Higher Order Functions**\n",
        "\n",
        "Today we're tackling recursion, and touching on higher-order functions in Python.  \n",
        "\n",
        "\n",
        "A **recursive** function is one that calls itself.  \n",
        "\n",
        "A classic example:  the Fibonacci sequence.\n",
        "\n",
        "The Fibonacci sequence was originally described to model population growth, and is self-referential in its definition.\n",
        "\n",
        "The nth Fib number is defined in terms of the previous two:\n",
        "- F(n) = F(n-1) + F(n-2)\n",
        "- F(1) = 0\n",
        "- F(2) = 1\n",
        "\n",
        "Another classic example: \n",
        "Factorial: \n",
        "- n! = n(n-1)(n-2)(n-3) ... 1\n",
        "or: \n",
        "- n! = n*(n-1)!\n",
        "\n",
        "Let's look at an implementation of the factorial and of the Fibonacci sequence in Python:\n"
      ]
    },
    {
      "cell_type": "code",
      "metadata": {
        "id": "mXhxn9etBITl",
        "outputId": "d7063531-fc44-4b58-8ae4-15c406d41f99"
      },
      "source": [
        "def factorial(n):\n",
        "    if n == 1:\n",
        "        return 1\n",
        "    else:\n",
        "        return n*factorial(n-1)\n",
        "    \n",
        "print(factorial(5))\n",
        "\n",
        "\n",
        "\n",
        "\n",
        "def fibonacci(n):\n",
        "    if n == 1:\n",
        "        return 0\n",
        "    elif n == 2:\n",
        "        return 1\n",
        "    else:\n",
        "        return fibonacci(n-1)+fibonacci(n-2)\n",
        "    \n",
        "fibonacci(7)"
      ],
      "execution_count": null,
      "outputs": [
        {
          "output_type": "stream",
          "text": [
            "120\n"
          ],
          "name": "stdout"
        },
        {
          "output_type": "execute_result",
          "data": {
            "text/plain": [
              "8"
            ]
          },
          "metadata": {
            "tags": []
          },
          "execution_count": 7
        }
      ]
    },
    {
      "cell_type": "markdown",
      "metadata": {
        "collapsed": false,
        "id": "R5aFiGGBBITn"
      },
      "source": [
        "There are two very important parts of these functions: a base case (or two) and a recursive case. When designing recursive functions it can help to think about these two cases!\n",
        "\n",
        "The base case is the case when we know we are done, and can just return a value.  (e.g. in fibonacci above there are two base cases, `n ==1` and `n ==2`).\n",
        "\n",
        "The recursive case is the case when we make the recursive call - that is we call the function again.  "
      ]
    },
    {
      "cell_type": "markdown",
      "metadata": {
        "collapsed": false,
        "id": "It2r0rRLBITn"
      },
      "source": [
        "Let's write a function that counts down from a parameter n to zero, and then prints \"Blastoff!\"."
      ]
    },
    {
      "cell_type": "code",
      "metadata": {
        "colab": {
          "base_uri": "https://localhost:8080/",
          "height": 130
        },
        "id": "pGKyDYhQBITo",
        "outputId": "31104c9f-a497-4a80-84c2-6e2054558cf9"
      },
      "source": [
        "def countdown(n):\n",
        "#     base case\n",
        "\n",
        "# recursive case\n",
        "\n"
      ],
      "execution_count": 1,
      "outputs": [
        {
          "output_type": "error",
          "ename": "SyntaxError",
          "evalue": "ignored",
          "traceback": [
            "\u001b[0;36m  File \u001b[0;32m\"<ipython-input-1-8aa267013755>\"\u001b[0;36m, line \u001b[0;32m5\u001b[0m\n\u001b[0;31m    \u001b[0m\n\u001b[0m    ^\u001b[0m\n\u001b[0;31mSyntaxError\u001b[0m\u001b[0;31m:\u001b[0m unexpected EOF while parsing\n"
          ]
        }
      ]
    },
    {
      "cell_type": "markdown",
      "metadata": {
        "collapsed": false,
        "id": "RT1QyQHcBITo"
      },
      "source": [
        "Let's write a recursive function that adds up the elements of a list:"
      ]
    },
    {
      "cell_type": "code",
      "metadata": {
        "id": "pDb5RM7dBITo"
      },
      "source": [
        "def add_up_list(my_list):\n",
        "#     base case\n",
        "\n",
        "# recursive case\n",
        "\n",
        "\n",
        "\n",
        "\n"
      ],
      "execution_count": null,
      "outputs": []
    },
    {
      "cell_type": "markdown",
      "metadata": {
        "collapsed": false,
        "id": "02BtHyRPBITp"
      },
      "source": [
        "**Higher-order functions**\n",
        "\n",
        "are functions that takes a function as an argument or returns a function.  We will talk briefly about functions that take a function as an argument.  Let's look at an example.  "
      ]
    },
    {
      "cell_type": "code",
      "metadata": {
        "id": "3UJLHfUMBITp",
        "outputId": "eb12e003-b36c-442b-bc0f-57d3dfb10024"
      },
      "source": [
        "def f(x):\n",
        "    return x+4\n",
        "\n",
        "def g(x):\n",
        "    return x**2\n",
        "\n",
        "def doItTwice(f, x):\n",
        "    return f(f(x))\n",
        "\n",
        "\n",
        "print(doItTwice(f, 3))\n",
        "print(doItTwice(g, 3))\n",
        "\n",
        "\n",
        "\n"
      ],
      "execution_count": null,
      "outputs": [
        {
          "output_type": "stream",
          "text": [
            "11\n",
            "81\n"
          ],
          "name": "stdout"
        }
      ]
    },
    {
      "cell_type": "markdown",
      "metadata": {
        "collapsed": false,
        "id": "ESYcSXpnBITp"
      },
      "source": [
        "A common reason for using a higher-order function is to apply a parameter-specified function repeatedly over a data structure (like a list or a dictionary).\n",
        "\n",
        "\n",
        "Let's look at an example function that applies a parameter function to every element of a list:"
      ]
    },
    {
      "cell_type": "code",
      "metadata": {
        "id": "E3wSkPT_BITq",
        "outputId": "67108770-614a-4b51-e5bc-b9f5ab2833f7"
      },
      "source": [
        "def sampleFunction1(x):\n",
        "    return 2*x\n",
        "\n",
        "\n",
        "def sampleFunction2(x):\n",
        "    return x % 2\n",
        "    \n",
        "\n",
        "\n",
        "def applyToAll(func, myList):\n",
        "    newList = []\n",
        "    for element in myList:\n",
        "        newList.append(func(element))\n",
        "    return newList\n",
        "        \n",
        "        \n",
        "aList = [2, 3, 4, 5]\n",
        "\n",
        "print(applyToAll(sampleFunction1, aList))\n",
        "\n",
        "print(applyToAll(sampleFunction2, aList))\n",
        "\n",
        "\n"
      ],
      "execution_count": null,
      "outputs": [
        {
          "output_type": "stream",
          "text": [
            "[4, 6, 8, 10]\n",
            "[0, 1, 0, 1]\n"
          ],
          "name": "stdout"
        }
      ]
    },
    {
      "cell_type": "markdown",
      "metadata": {
        "collapsed": false,
        "id": "LQLwXu1SBITq"
      },
      "source": [
        "Something like this applyToAll function is built into Python, and is called map"
      ]
    },
    {
      "cell_type": "code",
      "metadata": {
        "id": "4-JbhmQIBITq",
        "outputId": "6d11887b-4bc1-4120-9aea-a632113a616f"
      },
      "source": [
        "def sampleFunction1(x):\n",
        "    return 2*x\n",
        "\n",
        "\n",
        "def sampleFunction2(x):\n",
        "    return x % 2\n",
        "    \n",
        "aList = [2, 3, 4, 5]\n",
        "\n",
        "print(map(sampleFunction1, aList))\n",
        "\n",
        "\n",
        "bList = [2, 3, 4, 5]\n",
        "print(map(sampleFunction2, aList))\n"
      ],
      "execution_count": null,
      "outputs": [
        {
          "output_type": "stream",
          "text": [
            "<map object at 0x7faa420ec0b8>\n",
            "[0, 1, 0, 1]\n"
          ],
          "name": "stdout"
        }
      ]
    },
    {
      "cell_type": "markdown",
      "metadata": {
        "collapsed": false,
        "id": "82gBkchTBITq"
      },
      "source": [
        "Python has quite a few built-in functions (some higher-order, some not).  You can find lots of them here:  https://docs.python.org/3.3/library/functions.html  \n",
        "\n",
        "(I **will not** by default require you to remember those for an exam!!)\n",
        "        \n",
        "\n",
        "        \n",
        "Example: zip does something that may be familiar from last week's lab."
      ]
    },
    {
      "cell_type": "code",
      "metadata": {
        "id": "uvzeZFAgBITr",
        "outputId": "15791556-0a5c-4a2e-926a-54982a7455e3"
      },
      "source": [
        "x = [1, 2, 3]\n",
        "y = [4, 5, 6]\n",
        "zipped = zip(x, y)\n",
        "print(list(zipped))"
      ],
      "execution_count": null,
      "outputs": [
        {
          "output_type": "stream",
          "text": [
            "[(1, 4), (2, 5), (3, 6)]\n"
          ],
          "name": "stdout"
        }
      ]
    }
  ]
}